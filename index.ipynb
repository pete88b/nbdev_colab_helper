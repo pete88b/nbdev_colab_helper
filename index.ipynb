{
 "cells": [
  {
   "cell_type": "markdown",
   "metadata": {},
   "source": [
    "# nbdev / colab helper\n",
    "\n",
    "> Tools and tutorials to help working with nbdev in google colab."
   ]
  },
  {
   "cell_type": "markdown",
   "metadata": {},
   "source": [
    "## Warning\n",
    "\n",
    "While nbdev is making breaking changes, this project is pinned to [a yanked version of nbdev](https://pypi.org/project/nbdev/1.0.14/).\n",
    "\n",
    "Changes to [the fastai version of nbdev_template](https://github.com/fastai/nbdev_template) make it incompatible with nbdev 1.0.14 - but you can still work with [my fork of nbdev template](https://github.com/pete88b/nbdev_template).\n",
    "\n",
    "Please consider this a temporary solution - we'll update this project to use the latest version of nbdev once the breaking changes have slowed down.\n",
    "\n",
    "See [this issue](https://github.com/pete88b/nbdev_colab_helper/issues/3) for details."
   ]
  },
  {
   "cell_type": "markdown",
   "metadata": {},
   "source": [
    "## Install in colab\n",
    "\n",
    "Run the following code cell in a colab notebook:\n",
    "\n",
    "`!pip install git+https://github.com/pete88b/nbdev_colab_helper.git`\n",
    "\n",
    "TODO: Create pip package or move to nbdev?"
   ]
  },
  {
   "cell_type": "markdown",
   "metadata": {},
   "source": [
    "## How to use"
   ]
  },
  {
   "cell_type": "markdown",
   "metadata": {},
   "source": [
    "The goal of this project is to make it as easy as possible to work with nbdev and github without leaving colab.\n",
    " \n",
    "## Regular nbdev notebooks\n",
    " \n",
    "As you can see from [this notebook](https://github.com/pete88b/nbdev_colab_helper/blob/master/00_core.ipynb), you don't have to `!pip install nbdev` in every notebook.\n",
    " \n",
    "You can use the following pattern to avoid running colab specific things in non-colab environments, like mounting your google drive:\n",
    " \n",
    "```python\n",
    "IN_COLAB = 'google.colab' in str(get_ipython())\n",
    "if IN_COLAB:\n",
    "  from google.colab import drive\n",
    "```\n",
    " \n",
    "or installing nbdev:\n",
    " \n",
    "```python\n",
    "if IN_COLAB:\n",
    "  !pip install git+https://github.com/fastai/nbdev.git\n",
    "```\n",
    " \n",
    "Now that nbdev is available to the runtime, you can `from nbdev import *` and start using [magic flags](https://pete88b.github.io/fastpages/nbdev/fastai/jupyter/2020/06/02/nbdev-magic.html), `show_doc` etc.\n",
    " \n",
    "## The colab helper notebook\n",
    " \n",
    "Having a colab helper notebook gives you a place to do the things you would do from the command line in a non-colab environment (like running nbdev or git commands). Feel free to use [this notebook](https://colab.research.google.com/github/pete88b/nbdev_colab_helper/blob/master/_colab_helper.ipynb) as a starter.\n",
    " \n",
    "Before we can run nbdev or git commands in a colab helper notebook, we need to set-up the colab runtime via a call to `nbdev_colab_helper.core.setup_project`.\n",
    " \n",
    "After mounting your google drive to `/content/drive`, `setup_project` looks for `/content/drive/My Drive/nbdev_colab_projects.ini`: which must have a section for the project you are setting up.\n",
    " \n",
    "**Warning:** Your nbdev_colab_projects.ini should live outside your nbdev projects. Please don't share this file, or push to githib etc\n",
    " \n",
    "Here's an example `nbdev_colab_projects.ini` with sections for 2 projects:\n",
    " \n",
    "```\n",
    "[DEFAULT]\n",
    "project_parent = /content/drive/My Drive/Colab Notebooks/github\n",
    " \n",
    "git_user_name = **changeme**\n",
    "git_user_email = **changeme**@gmail.com\n",
    "git_user_password = **changeme**\n",
    " \n",
    "[nbdev_colab_helper]\n",
    "git_url = https://github.com/pete88b/nbdev_colab_helper.git\n",
    "git_branch = master\n",
    " \n",
    "[nbdev_demo]\n",
    "git_url = https://github.com/pete88b/nbdev_demo.git\n",
    "git_branch = main\n",
    "```\n",
    " \n",
    "See [ConfigParser](https://docs.python.org/3/library/configparser.html) for details on how this file can be formatted.\n",
    " \n",
    "The name of the colab helper notebook is not important and it doesn't have to be part of your nbdev project - you could manage any number of nbdev projects from a single colab helper notebook."
   ]
  }
 ],
 "metadata": {
  "kernelspec": {
   "display_name": "Python 3",
   "language": "python",
   "name": "python3"
  }
 },
 "nbformat": 4,
 "nbformat_minor": 0
}
