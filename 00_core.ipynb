{
 "cells": [
  {
   "cell_type": "code",
   "execution_count": null,
   "metadata": {},
   "outputs": [],
   "source": [
    "# default_exp core"
   ]
  },
  {
   "cell_type": "markdown",
   "metadata": {},
   "source": [
    ""
   ]
  },
  {
   "cell_type": "markdown",
   "metadata": {},
   "source": [
    "# Core\n",
    "\n",
    "> Functions to setup a colab runtime for use with nbdev and github."
   ]
  },
  {
   "cell_type": "code",
   "execution_count": null,
   "metadata": {},
   "outputs": [],
   "source": [
    "#exports\n",
    "IN_COLAB = 'google.colab' in str(get_ipython())"
   ]
  },
  {
   "cell_type": "markdown",
   "metadata": {},
   "source": [
    "I think checking the name of the ipython shell &uarr; is the most reliable way of checking if we're running in colab or not."
   ]
  },
  {
   "cell_type": "code",
   "execution_count": null,
   "metadata": {},
   "outputs": [],
   "source": [
    "#export\n",
    "import os, subprocess, urllib, shlex\n",
    " \n",
    "def _run_commands(commands, password=None):\n",
    "  \"Run a list of commands making sure we mask `password` when printing commands\"\n",
    "  for cmd in commands:\n",
    "    process = subprocess.Popen(shlex.split(cmd), stdout=subprocess.PIPE)\n",
    "    output, err = process.communicate()\n",
    "    if password: cmd = cmd.replace(password, '*****')\n",
    "    print(cmd)\n",
    "    if output or err:\n",
    "      print('  ', output.decode('utf8').strip() if output else '', err or '')\n",
    " \n",
    "def setup_git(git_url:str, git_branch:str, name:str, password:str, email:str):\n",
    "  \"Link your mounted drive to GitHub\"\n",
    "  password = urllib.parse.quote(password)\n",
    "  _run_commands([\n",
    "      f\"git config --global user.email {email}\",\n",
    "      f\"git config --global user.name {name}\",\n",
    "      f\"git init\",\n",
    "      f\"git remote rm origin\",\n",
    "      f\"git remote add origin {git_url.replace('://git', f'://{name}:{password}@git')}\",\n",
    "      f\"git pull origin {git_branch}\", # TODO: do we need --allow-unrelated-histories?\n",
    "      f\"git checkout {git_branch}\",\n",
    "      f\"git push --set-upstream origin {git_branch}\"],\n",
    "      password)\n",
    "\n",
    "def git_push(git_branch:str, message:str):\n",
    "  \"Convert notebooks to scripts and then push to the library\"\n",
    "  _run_commands([\n",
    "      f'nbdev_install_git_hooks',\n",
    "      f'nbdev_build_lib',\n",
    "      f'git add *', # TODO: allow specific files to be pushed \n",
    "      f'git commit -m \"{message}\"',\n",
    "      f'git push origin {git_branch}']) # TODO: show message when push fails!"
   ]
  },
  {
   "cell_type": "code",
   "execution_count": null,
   "metadata": {},
   "outputs": [],
   "source": [
    "#export\n",
    "from configparser import ConfigParser\n",
    "from pathlib import Path\n",
    "\n",
    "def read_config(project_name):\n",
    "  config_path = Path('/content/drive/My Drive/nbdev_colab_projects.ini')\n",
    "  config = ConfigParser()\n",
    "  config.read(config_path)\n",
    "  if project_name not in config:\n",
    "    print(f'Error: [{project_name}] section not found in {config_path}')\n",
    "    print(f'Please add a section for [{project_name}] and run `setup_project` again')\n",
    "    print('See https://pete88b.github.io/nbdev_colab_helper/core.html for details')\n",
    "    return config, None\n",
    "  return config, config[project_name]"
   ]
  },
  {
   "cell_type": "code",
   "execution_count": null,
   "metadata": {},
   "outputs": [],
   "source": [
    "#export\n",
    "def setup_project(project_name):\n",
    "  \"Set-up the colab runtime for `project_name`\"\n",
    "  assert IN_COLAB, \"You do not appear to be running in Colab\"\n",
    "  if not Path('/content/drive/My Drive').exists():\n",
    "    print('Connecting to google drive')\n",
    "    from google.colab import drive\n",
    "    drive.mount('/content/drive')\n",
    "  config, project_config = read_config(project_name)\n",
    "  if project_config is None: return config, project_config\n",
    "  project_path = Path(project_config['project_parent'])/project_name\n",
    "  git_url, git_branch = project_config['git_url'], project_config['git_branch']\n",
    "  if project_path.is_dir():\n",
    "    print(f'Clone of {project_name} already exists in {project_path.parent}')\n",
    "  else:\n",
    "    project_path.parent.mkdir(parents=True, exist_ok=True)\n",
    "    _run_commands([f'git clone {git_url} \"{project_path}\"'])\n",
    "  get_ipython().magic(f'cd {project_path}')\n",
    "  _run_commands(['pip install git+https://github.com/fastai/nbdev.git'])\n",
    "  setup_git(git_url, git_branch, project_config['git_user_name'], \n",
    "            project_config['git_user_password'], project_config['git_user_email'])\n",
    "  return config, project_config"
   ]
  },
  {
   "cell_type": "markdown",
   "metadata": {},
   "source": [
    "This function will:\n",
    "- mount your google drive to `/content/drive`,\n",
    "- read project settings from `/content/drive/My Drive/nbdev_colab_projects.ini`,\n",
    "- `git clone` the project to `project_path` if `project_path` doesn't already exist,\n",
    "- `cd` to `project_path`,\n",
    "- install nbdev,\n",
    "- run `setup_git` and\n",
    "- return `config` (the `ConfigParser` used to read `nbdev_colab_projects.ini`) and `project_config` (the project section of `config`)"
   ]
  },
  {
   "cell_type": "code",
   "execution_count": null,
   "metadata": {},
   "outputs": [],
   "source": [
    "#export\n",
    "def init_notebook(project_name):\n",
    "  print('Connecting to google drive')\n",
    "  from google.colab import drive\n",
    "  drive.mount('/content/drive')\n",
    "  config, project_config = read_config(project_name)\n",
    "  if project_config is None: return config, project_config\n",
    "  project_path = Path(project_config['project_parent'])/project_name\n",
    "  get_ipython().magic(f'cd {project_path}')\n",
    "  _run_commands(['pip install nbdev==1.0.18'])\n",
    "  from nbdev.imports import Config\n",
    "  get_ipython().magic(f'cd {Config().nbs_path}') # TODO is there a better way to know which dir the nb is in?\n",
    "  # TODO: de-duplicate with setup_project\n",
    "  # TODO: Read `requirements` section in `settings.ini` and install all reqs here\n",
    "\n"
   ]
  }
 ],
 "metadata": {
  "kernelspec": {
   "display_name": "Python 3",
   "language": "python",
   "name": "python3"
  }
 },
 "nbformat": 4,
 "nbformat_minor": 0
}
